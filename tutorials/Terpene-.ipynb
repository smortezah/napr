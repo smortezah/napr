{
 "cells": [
  {
   "cell_type": "code",
   "execution_count": 1,
   "metadata": {},
   "outputs": [
    {
     "ename": "AttributeError",
     "evalue": "'Terpene' object has no attribute 'plot'",
     "output_type": "error",
     "traceback": [
      "\u001b[1;31m---------------------------------------------------------------------------\u001b[0m",
      "\u001b[1;31mAttributeError\u001b[0m                            Traceback (most recent call last)",
      "\u001b[1;32md:\\napr\\tutorials\\Terpene-.ipynb Cell 1'\u001b[0m in \u001b[0;36m<cell line: 8>\u001b[1;34m()\u001b[0m\n\u001b[0;32m      <a href='vscode-notebook-cell:/d%3A/napr/tutorials/Terpene-.ipynb#ch0000000?line=5'>6</a>\u001b[0m data \u001b[39m=\u001b[39m load_terpene(download\u001b[39m=\u001b[39m\u001b[39mFalse\u001b[39;00m)\n\u001b[0;32m      <a href='vscode-notebook-cell:/d%3A/napr/tutorials/Terpene-.ipynb#ch0000000?line=6'>7</a>\u001b[0m terpene \u001b[39m=\u001b[39m Terpene(data\u001b[39m=\u001b[39mdata)\n\u001b[1;32m----> <a href='vscode-notebook-cell:/d%3A/napr/tutorials/Terpene-.ipynb#ch0000000?line=7'>8</a>\u001b[0m terpene\u001b[39m.\u001b[39;49mplot\u001b[39m.\u001b[39mdist_subclass_mw_logp_nplscore()\n",
      "\u001b[1;31mAttributeError\u001b[0m: 'Terpene' object has no attribute 'plot'"
     ]
    }
   ],
   "source": [
    "import napr\n",
    "from napr.data import load_terpene\n",
    "# from napr.preprocess import \n",
    "from napr.apps import Terpene\n",
    "\n",
    "data = load_terpene(download=False)\n",
    "terpene = Terpene(data=data)\n",
    "terpene.plot.dist_subclass_mw_logp_nplscore()"
   ]
  }
 ],
 "metadata": {
  "interpreter": {
   "hash": "5f3d7d7e8c81cec1461dc48a8005a162ac95d9df095356b48db8b5910f5f9570"
  },
  "kernelspec": {
   "display_name": "Python 3.10.4 ('.venv': poetry)",
   "language": "python",
   "name": "python3"
  },
  "language_info": {
   "codemirror_mode": {
    "name": "ipython",
    "version": 3
   },
   "file_extension": ".py",
   "mimetype": "text/x-python",
   "name": "python",
   "nbconvert_exporter": "python",
   "pygments_lexer": "ipython3",
   "version": "3.10.4"
  },
  "orig_nbformat": 4
 },
 "nbformat": 4,
 "nbformat_minor": 2
}
