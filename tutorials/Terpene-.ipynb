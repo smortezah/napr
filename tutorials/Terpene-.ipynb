{
 "cells": [
  {
   "cell_type": "code",
   "execution_count": 1,
   "metadata": {},
   "outputs": [],
   "source": [
    "import napr\n",
    "from napr.data import load_terpene\n",
    "# from napr.preprocess import \n",
    "from napr.apps import Terpene\n",
    "\n",
    "#TODO:\n",
    "from functools import cache\n",
    "\n",
    "# @cache\n",
    "def load():\n",
    "    return load_terpene(download=False)\n",
    "\n",
    "data = load()\n",
    "terpene = Terpene(data=data)\n",
    "terpene.preprocess()\n",
    "\n",
    "# terpene.data"
   ]
  },
  {
   "cell_type": "code",
   "execution_count": 2,
   "metadata": {},
   "outputs": [
    {
     "data": {
      "text/plain": [
       "Index(['_id', 'coconut_id', 'contains_sugar', 'heavy_atom_number', 'name',\n",
       "       'molecular_formula', 'molecular_weight', 'textTaxa', 'npl_noh_score',\n",
       "       'npl_score', 'npl_sugar_score', 'number_of_carbons',\n",
       "       'number_of_nitrogens', 'number_of_oxygens', 'max_number_of_rings',\n",
       "       'min_number_of_rings', 'sugar_free_heavy_atom_number',\n",
       "       'sugar_free_total_atom_number', 'total_atom_number', 'alogp',\n",
       "       'amralogp', 'apol', 'bcutDescriptor', 'bpol',\n",
       "       'eccentricConnectivityIndexDescriptor', 'fmfDescriptor', 'fsp3',\n",
       "       'fragmentComplexityDescriptor', 'hBondAcceptorCount', 'hBondDonorCount',\n",
       "       'hybridizationRatioDescriptor', 'kappaShapeIndex1', 'kappaShapeIndex2',\n",
       "       'kappaShapeIndex3', 'manholdlogp', 'petitjeanNumber',\n",
       "       'petitjeanShapeTopo', 'lipinskiRuleOf5Failures', 'numberSpiroAtoms',\n",
       "       'weinerPathNumber', 'weinerPolarityNumber', 'zagrebIndex', 'topoPSA',\n",
       "       'tpsaEfficiency', 'iupac_name', 'chemicalClass', 'chemicalSubClass',\n",
       "       'chemicalSuperClass', 'directParentClassification', 'bcutDescriptor_0',\n",
       "       'bcutDescriptor_1', 'bcutDescriptor_2', 'bcutDescriptor_3',\n",
       "       'bcutDescriptor_4', 'bcutDescriptor_5'],\n",
       "      dtype='object')"
      ]
     },
     "execution_count": 2,
     "metadata": {},
     "output_type": "execute_result"
    }
   ],
   "source": [
    "terpene.data.columns"
   ]
  },
  {
   "cell_type": "code",
   "execution_count": 3,
   "metadata": {},
   "outputs": [
    {
     "data": {
      "text/plain": [
       "Index(['_id', 'coconut_id', 'contains_sugar', 'heavy_atom_number', 'name',\n",
       "       'molecular_formula', 'molecular_weight', 'textTaxa', 'npl_noh_score',\n",
       "       'npl_score', 'npl_sugar_score', 'number_of_carbons',\n",
       "       'number_of_nitrogens', 'number_of_oxygens', 'max_number_of_rings',\n",
       "       'min_number_of_rings', 'sugar_free_heavy_atom_number',\n",
       "       'sugar_free_total_atom_number', 'total_atom_number', 'alogp',\n",
       "       'amralogp', 'apol', 'bcutDescriptor', 'bpol',\n",
       "       'eccentricConnectivityIndexDescriptor', 'fmfDescriptor', 'fsp3',\n",
       "       'fragmentComplexityDescriptor', 'hBondAcceptorCount', 'hBondDonorCount',\n",
       "       'hybridizationRatioDescriptor', 'kappaShapeIndex1', 'kappaShapeIndex2',\n",
       "       'kappaShapeIndex3', 'manholdlogp', 'petitjeanNumber',\n",
       "       'petitjeanShapeTopo', 'lipinskiRuleOf5Failures', 'numberSpiroAtoms',\n",
       "       'weinerPathNumber', 'weinerPolarityNumber', 'zagrebIndex', 'topoPSA',\n",
       "       'tpsaEfficiency', 'iupac_name', 'chemicalClass', 'chemicalSubClass',\n",
       "       'chemicalSuperClass', 'directParentClassification'],\n",
       "      dtype='object')"
      ]
     },
     "execution_count": 3,
     "metadata": {},
     "output_type": "execute_result"
    }
   ],
   "source": [
    "data.columns"
   ]
  }
 ],
 "metadata": {
  "interpreter": {
   "hash": "5f3d7d7e8c81cec1461dc48a8005a162ac95d9df095356b48db8b5910f5f9570"
  },
  "kernelspec": {
   "display_name": "Python 3.10.4 ('.venv': poetry)",
   "language": "python",
   "name": "python3"
  },
  "language_info": {
   "codemirror_mode": {
    "name": "ipython",
    "version": 3
   },
   "file_extension": ".py",
   "mimetype": "text/x-python",
   "name": "python",
   "nbconvert_exporter": "python",
   "pygments_lexer": "ipython3",
   "version": "3.10.4"
  },
  "orig_nbformat": 4
 },
 "nbformat": 4,
 "nbformat_minor": 2
}
