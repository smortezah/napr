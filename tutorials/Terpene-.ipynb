{
 "cells": [
  {
   "cell_type": "code",
   "execution_count": 1,
   "metadata": {},
   "outputs": [
    {
     "name": "stdout",
     "output_type": "stream",
     "text": [
      "Data cleansing finished in 0h:00m:1s.\n"
     ]
    }
   ],
   "source": [
    "import napr\n",
    "from napr.data import load_terpene\n",
    "from napr.apps import Terpene\n",
    "\n",
    "#TODO:\n",
    "from functools import cache\n",
    "\n",
    "@cache\n",
    "def load():\n",
    "    return load_terpene(download=False)\n",
    "\n",
    "data = load()\n",
    "terpene = Terpene(data=data)\n",
    "terpene.data_cleanse()\n",
    "\n",
    "terpene.dim_reduce()\n",
    "\n",
    "# terpene.data"
   ]
  },
  {
   "cell_type": "code",
   "execution_count": 6,
   "metadata": {},
   "outputs": [
    {
     "name": "stdout",
     "output_type": "stream",
     "text": [
      "<class 'pandas.core.frame.DataFrame'>\n",
      "Int64Index: 99696 entries, 42937 to 122069\n",
      "Data columns (total 50 columns):\n",
      " #   Column                                Non-Null Count  Dtype  \n",
      "---  ------                                --------------  -----  \n",
      " 0   contains_sugar                        99696 non-null  float64\n",
      " 1   heavy_atom_number                     99696 non-null  float64\n",
      " 2   molecular_weight                      99696 non-null  float64\n",
      " 3   npl_noh_score                         99696 non-null  float64\n",
      " 4   npl_score                             99696 non-null  float64\n",
      " 5   npl_sugar_score                       99696 non-null  float64\n",
      " 6   number_of_carbons                     99696 non-null  float64\n",
      " 7   number_of_nitrogens                   99696 non-null  float64\n",
      " 8   number_of_oxygens                     99696 non-null  float64\n",
      " 9   max_number_of_rings                   99696 non-null  float64\n",
      " 10  min_number_of_rings                   99696 non-null  float64\n",
      " 11  sugar_free_heavy_atom_number          99696 non-null  float64\n",
      " 12  sugar_free_total_atom_number          99696 non-null  float64\n",
      " 13  total_atom_number                     99696 non-null  float64\n",
      " 14  alogp                                 99696 non-null  float64\n",
      " 15  amralogp                              99696 non-null  float64\n",
      " 16  apol                                  99696 non-null  float64\n",
      " 17  bpol                                  99696 non-null  float64\n",
      " 18  eccentricConnectivityIndexDescriptor  99696 non-null  float64\n",
      " 19  fmfDescriptor                         99696 non-null  float64\n",
      " 20  fsp3                                  99696 non-null  float64\n",
      " 21  fragmentComplexityDescriptor          99696 non-null  float64\n",
      " 22  hBondAcceptorCount                    99696 non-null  float64\n",
      " 23  hBondDonorCount                       99696 non-null  float64\n",
      " 24  hybridizationRatioDescriptor          99696 non-null  float64\n",
      " 25  kappaShapeIndex1                      99696 non-null  float64\n",
      " 26  kappaShapeIndex2                      99696 non-null  float64\n",
      " 27  kappaShapeIndex3                      99696 non-null  float64\n",
      " 28  manholdlogp                           99696 non-null  float64\n",
      " 29  petitjeanNumber                       99696 non-null  float64\n",
      " 30  petitjeanShapeTopo                    99696 non-null  float64\n",
      " 31  lipinskiRuleOf5Failures               99696 non-null  float64\n",
      " 32  numberSpiroAtoms                      99696 non-null  float64\n",
      " 33  weinerPathNumber                      99696 non-null  float64\n",
      " 34  weinerPolarityNumber                  99696 non-null  float64\n",
      " 35  zagrebIndex                           99696 non-null  float64\n",
      " 36  topoPSA                               99696 non-null  float64\n",
      " 37  tpsaEfficiency                        99696 non-null  float64\n",
      " 38  chemicalSubClass                      98765 non-null  object \n",
      " 39  directParentClassification            99696 non-null  float64\n",
      " 40  bcutDescriptor_0                      99696 non-null  float64\n",
      " 41  bcutDescriptor_1                      99696 non-null  float64\n",
      " 42  bcutDescriptor_2                      99696 non-null  float64\n",
      " 43  bcutDescriptor_3                      99696 non-null  float64\n",
      " 44  bcutDescriptor_4                      99696 non-null  float64\n",
      " 45  bcutDescriptor_5                      99696 non-null  float64\n",
      " 46  textTaxa_plants                       99696 non-null  float64\n",
      " 47  textTaxa_marine                       99696 non-null  float64\n",
      " 48  textTaxa_bacteria                     99696 non-null  float64\n",
      " 49  textTaxa_fungi                        99696 non-null  float64\n",
      "dtypes: float64(49), object(1)\n",
      "memory usage: 38.8+ MB\n"
     ]
    }
   ],
   "source": [
    "terpene.data.info()"
   ]
  },
  {
   "cell_type": "code",
   "execution_count": 8,
   "metadata": {},
   "outputs": [
    {
     "data": {
      "text/html": [
       "<div>\n",
       "<style scoped>\n",
       "    .dataframe tbody tr th:only-of-type {\n",
       "        vertical-align: middle;\n",
       "    }\n",
       "\n",
       "    .dataframe tbody tr th {\n",
       "        vertical-align: top;\n",
       "    }\n",
       "\n",
       "    .dataframe thead th {\n",
       "        text-align: right;\n",
       "    }\n",
       "</style>\n",
       "<table border=\"1\" class=\"dataframe\">\n",
       "  <thead>\n",
       "    <tr style=\"text-align: right;\">\n",
       "      <th></th>\n",
       "      <th>PCA1</th>\n",
       "      <th>PCA2</th>\n",
       "    </tr>\n",
       "  </thead>\n",
       "  <tbody>\n",
       "    <tr>\n",
       "      <th>0</th>\n",
       "      <td>2.271991</td>\n",
       "      <td>-5.742866</td>\n",
       "    </tr>\n",
       "    <tr>\n",
       "      <th>1</th>\n",
       "      <td>-4.762928</td>\n",
       "      <td>0.934696</td>\n",
       "    </tr>\n",
       "    <tr>\n",
       "      <th>2</th>\n",
       "      <td>-0.600844</td>\n",
       "      <td>1.198201</td>\n",
       "    </tr>\n",
       "    <tr>\n",
       "      <th>3</th>\n",
       "      <td>-0.525496</td>\n",
       "      <td>1.459378</td>\n",
       "    </tr>\n",
       "    <tr>\n",
       "      <th>4</th>\n",
       "      <td>5.665109</td>\n",
       "      <td>2.466193</td>\n",
       "    </tr>\n",
       "    <tr>\n",
       "      <th>...</th>\n",
       "      <td>...</td>\n",
       "      <td>...</td>\n",
       "    </tr>\n",
       "    <tr>\n",
       "      <th>99691</th>\n",
       "      <td>-5.695763</td>\n",
       "      <td>-2.162703</td>\n",
       "    </tr>\n",
       "    <tr>\n",
       "      <th>99692</th>\n",
       "      <td>-0.929136</td>\n",
       "      <td>2.387381</td>\n",
       "    </tr>\n",
       "    <tr>\n",
       "      <th>99693</th>\n",
       "      <td>-0.054994</td>\n",
       "      <td>2.802221</td>\n",
       "    </tr>\n",
       "    <tr>\n",
       "      <th>99694</th>\n",
       "      <td>5.576723</td>\n",
       "      <td>-7.528642</td>\n",
       "    </tr>\n",
       "    <tr>\n",
       "      <th>99695</th>\n",
       "      <td>-0.353669</td>\n",
       "      <td>1.143954</td>\n",
       "    </tr>\n",
       "  </tbody>\n",
       "</table>\n",
       "<p>99696 rows × 2 columns</p>\n",
       "</div>"
      ],
      "text/plain": [
       "           PCA1      PCA2\n",
       "0      2.271991 -5.742866\n",
       "1     -4.762928  0.934696\n",
       "2     -0.600844  1.198201\n",
       "3     -0.525496  1.459378\n",
       "4      5.665109  2.466193\n",
       "...         ...       ...\n",
       "99691 -5.695763 -2.162703\n",
       "99692 -0.929136  2.387381\n",
       "99693 -0.054994  2.802221\n",
       "99694  5.576723 -7.528642\n",
       "99695 -0.353669  1.143954\n",
       "\n",
       "[99696 rows x 2 columns]"
      ]
     },
     "execution_count": 8,
     "metadata": {},
     "output_type": "execute_result"
    }
   ],
   "source": [
    "from sklearn.decomposition import PCA\n",
    "cpy=terpene.data.copy()\n",
    "cpy.pop(\"chemicalSubClass\")\n",
    "\n",
    "import pandas as pd\n",
    "pd.DataFrame(\n",
    "PCA(n_components=2).fit_transform(cpy),\n",
    "columns=[\"PCA1\",\"PCA2\"])"
   ]
  },
  {
   "cell_type": "code",
   "execution_count": 12,
   "metadata": {},
   "outputs": [
    {
     "name": "stdout",
     "output_type": "stream",
     "text": [
      "['contains_sugar', 'heavy_atom_number', 'molecular_weight', 'npl_noh_score', 'npl_score', 'npl_sugar_score', 'number_of_carbons', 'number_of_nitrogens', 'number_of_oxygens', 'max_number_of_rings', 'min_number_of_rings', 'sugar_free_heavy_atom_number', 'sugar_free_total_atom_number', 'total_atom_number', 'alogp', 'amralogp', 'apol', 'bpol', 'eccentricConnectivityIndexDescriptor', 'fmfDescriptor', 'fsp3', 'fragmentComplexityDescriptor', 'hBondAcceptorCount', 'hBondDonorCount', 'hybridizationRatioDescriptor', 'kappaShapeIndex1', 'kappaShapeIndex2', 'kappaShapeIndex3', 'manholdlogp', 'petitjeanNumber', 'petitjeanShapeTopo', 'lipinskiRuleOf5Failures', 'numberSpiroAtoms', 'weinerPathNumber', 'weinerPolarityNumber', 'zagrebIndex', 'topoPSA', 'tpsaEfficiency', 'directParentClassification', 'bcutDescriptor_0', 'bcutDescriptor_1', 'bcutDescriptor_2', 'bcutDescriptor_3', 'bcutDescriptor_4', 'bcutDescriptor_5', 'textTaxa_plants', 'textTaxa_marine', 'textTaxa_bacteria', 'textTaxa_fungi']\n"
     ]
    }
   ],
   "source": [
    "def all_but(all:list[str], but:list[str]):\n",
    "    return [x for x in all if x not in but]\n",
    "\n",
    "cols=all_but(terpene.data.columns, [\"chemicalSubClass\"])\n"
   ]
  }
 ],
 "metadata": {
  "interpreter": {
   "hash": "5f3d7d7e8c81cec1461dc48a8005a162ac95d9df095356b48db8b5910f5f9570"
  },
  "kernelspec": {
   "display_name": "Python 3.10.4 ('.venv': poetry)",
   "language": "python",
   "name": "python3"
  },
  "language_info": {
   "codemirror_mode": {
    "name": "ipython",
    "version": 3
   },
   "file_extension": ".py",
   "mimetype": "text/x-python",
   "name": "python",
   "nbconvert_exporter": "python",
   "pygments_lexer": "ipython3",
   "version": "3.10.4"
  },
  "orig_nbformat": 4
 },
 "nbformat": 4,
 "nbformat_minor": 2
}
