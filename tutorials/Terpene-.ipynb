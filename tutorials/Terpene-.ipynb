{
 "cells": [
  {
   "cell_type": "code",
   "execution_count": 2,
   "metadata": {},
   "outputs": [
    {
     "name": "stdout",
     "output_type": "stream",
     "text": [
      "0.75\n"
     ]
    }
   ],
   "source": [
    "import napr\n",
    "from napr.data import load_terpene\n",
    "# from napr.preprocess import \n",
    "from napr.apps import Terpene\n",
    "\n",
    "#TODO:\n",
    "from functools import cache\n",
    "\n",
    "@cache\n",
    "def load():\n",
    "    return load_terpene(download=False)\n",
    "\n",
    "data = load()\n",
    "terpene = Terpene(data=data)\n",
    "terpene.preprocess()\n",
    "\n",
    "# terpene.data"
   ]
  },
  {
   "cell_type": "code",
   "execution_count": 9,
   "metadata": {},
   "outputs": [
    {
     "data": {
      "text/plain": [
       "['fda']"
      ]
     },
     "execution_count": 9,
     "metadata": {},
     "output_type": "execute_result"
    }
   ],
   "source": [
    "a=['fda']\n",
    "a[:]"
   ]
  }
 ],
 "metadata": {
  "interpreter": {
   "hash": "5f3d7d7e8c81cec1461dc48a8005a162ac95d9df095356b48db8b5910f5f9570"
  },
  "kernelspec": {
   "display_name": "Python 3.10.4 ('.venv': poetry)",
   "language": "python",
   "name": "python3"
  },
  "language_info": {
   "codemirror_mode": {
    "name": "ipython",
    "version": 3
   },
   "file_extension": ".py",
   "mimetype": "text/x-python",
   "name": "python",
   "nbconvert_exporter": "python",
   "pygments_lexer": "ipython3",
   "version": "3.10.4"
  },
  "orig_nbformat": 4
 },
 "nbformat": 4,
 "nbformat_minor": 2
}
